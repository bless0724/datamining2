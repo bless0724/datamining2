{
 "cells": [
  {
   "cell_type": "markdown",
   "id": "1a5d9e87",
   "metadata": {},
   "source": [
    "# 1. 问题描述"
   ]
  },
  {
   "cell_type": "markdown",
   "id": "771197b7",
   "metadata": {},
   "source": [
    "本次作业中，自行选择2个数据集进行探索性分析与预处理。\n",
    "github仓库地址为"
   ]
  },
  {
   "cell_type": "markdown",
   "id": "49ff258e",
   "metadata": {},
   "source": [
    "# 2. 数据集"
   ]
  },
  {
   "cell_type": "markdown",
   "id": "22e44b82",
   "metadata": {},
   "source": [
    "选择的数据集为：Wine Reviews和Trending YouTube Video Statistics"
   ]
  },
  {
   "cell_type": "markdown",
   "id": "9cb62dfd",
   "metadata": {},
   "source": [
    "# 3. 数据分析要求"
   ]
  },
  {
   "cell_type": "markdown",
   "id": "2ee4dc1d",
   "metadata": {},
   "source": [
    "## 数据集1：Wine Reviews"
   ]
  },
  {
   "cell_type": "markdown",
   "id": "db7e30f6",
   "metadata": {},
   "source": [
    "## 3.1 数据可视化和摘要"
   ]
  },
  {
   "cell_type": "code",
   "execution_count": 1,
   "id": "a149bda6",
   "metadata": {},
   "outputs": [],
   "source": [
    "import pandas as pd\n",
    "import matplotlib.pyplot as plt\n",
    "import numpy as np\n",
    "from scipy import stats"
   ]
  },
  {
   "cell_type": "markdown",
   "id": "257cc1d2",
   "metadata": {},
   "source": [
    "读取数据集，选择标称属性和数值属性"
   ]
  },
  {
   "cell_type": "code",
   "execution_count": 2,
   "id": "c3af4db7",
   "metadata": {},
   "outputs": [],
   "source": [
    "winemag = pd.read_csv(\"winemag-data_first150k.csv\",delimiter=',',low_memory=False)\n",
    "nominal = winemag[['country','designation','province','region_1','region_2','variety','winery']]\n",
    "numeric = winemag[['points','price']]"
   ]
  },
  {
   "cell_type": "markdown",
   "id": "4a8e9e24",
   "metadata": {},
   "source": [
    "对标称属性计算频数"
   ]
  },
  {
   "cell_type": "code",
   "execution_count": 3,
   "id": "d24e1a45",
   "metadata": {
    "scrolled": false
   },
   "outputs": [
    {
     "name": "stdout",
     "output_type": "stream",
     "text": [
      "country频数：\n",
      " US                        62397\n",
      "Italy                     23478\n",
      "France                    21098\n",
      "Spain                      8268\n",
      "Chile                      5816\n",
      "Argentina                  5631\n",
      "Portugal                   5322\n",
      "Australia                  4957\n",
      "New Zealand                3320\n",
      "Austria                    3057\n",
      "Germany                    2452\n",
      "South Africa               2258\n",
      "Greece                      884\n",
      "Israel                      630\n",
      "Hungary                     231\n",
      "Canada                      196\n",
      "Romania                     139\n",
      "Slovenia                     94\n",
      "Uruguay                      92\n",
      "Croatia                      89\n",
      "Bulgaria                     77\n",
      "Moldova                      71\n",
      "Mexico                       63\n",
      "Turkey                       52\n",
      "Georgia                      43\n",
      "Lebanon                      37\n",
      "Cyprus                       31\n",
      "Brazil                       25\n",
      "Macedonia                    16\n",
      "Serbia                       14\n",
      "Morocco                      12\n",
      "Luxembourg                    9\n",
      "England                       9\n",
      "Lithuania                     8\n",
      "India                         8\n",
      "Czech Republic                6\n",
      "Ukraine                       5\n",
      "Switzerland                   4\n",
      "Bosnia and Herzegovina        4\n",
      "South Korea                   4\n",
      "Egypt                         3\n",
      "China                         3\n",
      "Slovakia                      3\n",
      "Montenegro                    2\n",
      "Japan                         2\n",
      "Albania                       2\n",
      "Tunisia                       2\n",
      "US-France                     1\n",
      "Name: country, dtype: int64 \n",
      "\n",
      "designation频数：\n",
      " Reserve                                 2752\n",
      "Reserva                                 1810\n",
      "Estate                                  1571\n",
      "Barrel sample                           1326\n",
      "Riserva                                  754\n",
      "                                        ... \n",
      "Trezotratto Etichetta Bianca Riserva       1\n",
      "Rage                                       1\n",
      "Altes Kreuz                                1\n",
      "Caparbio                                   1\n",
      "Sainte-Fleur                               1\n",
      "Name: designation, Length: 30621, dtype: int64 \n",
      "\n",
      "province频数：\n",
      " California                   44508\n",
      "Washington                    9750\n",
      "Tuscany                       7281\n",
      "Bordeaux                      6111\n",
      "Northern Spain                4892\n",
      "                             ...  \n",
      "Casablanca-Curicó Valley         1\n",
      "Serra do Sudeste                 1\n",
      "Central Otago-Marlborough        1\n",
      "Ticino                           1\n",
      "Slovenska Istra                  1\n",
      "Name: province, Length: 455, dtype: int64 \n",
      "\n",
      "region_1频数：\n",
      " Napa Valley                          6209\n",
      "Columbia Valley (WA)                 4975\n",
      "Mendoza                              3586\n",
      "Russian River Valley                 3571\n",
      "California                           3462\n",
      "                                     ... \n",
      "Valpolicella Valpantena Superiore       1\n",
      "Galluccio                               1\n",
      "South Australia-Victoria                1\n",
      "Medrano                                 1\n",
      "Jujuy                                   1\n",
      "Name: region_1, Length: 1236, dtype: int64 \n",
      "\n",
      "region_2频数：\n",
      " Central Coast              13057\n",
      "Sonoma                     11258\n",
      "Columbia Valley             9157\n",
      "Napa                        8801\n",
      "California Other            3516\n",
      "Willamette Valley           3181\n",
      "Mendocino/Lake Counties     2389\n",
      "Sierra Foothills            1660\n",
      "Napa-Sonoma                 1645\n",
      "Finger Lakes                1510\n",
      "Central Valley              1115\n",
      "Long Island                  771\n",
      "Southern Oregon              662\n",
      "Oregon Other                 661\n",
      "North Coast                  632\n",
      "Washington Other             593\n",
      "South Coast                  198\n",
      "New York Other               147\n",
      "Name: region_2, dtype: int64 \n",
      "\n",
      "variety频数：\n",
      " Chardonnay                  14482\n",
      "Pinot Noir                  14291\n",
      "Cabernet Sauvignon          12800\n",
      "Red Blend                   10062\n",
      "Bordeaux-style Red Blend     7347\n",
      "                            ...  \n",
      "Kinali Yapincak                 1\n",
      "Romorantin                      1\n",
      "Tinta Francisca                 1\n",
      "Bombino Bianco                  1\n",
      "Chinuri                         1\n",
      "Name: variety, Length: 632, dtype: int64 \n",
      "\n",
      "winery频数：\n",
      " Williams Selyem              374\n",
      "Testarossa                   274\n",
      "DFJ Vinhos                   258\n",
      "Chateau Ste. Michelle        225\n",
      "Columbia Crest               217\n",
      "                            ... \n",
      "Castello La Leccia             1\n",
      "Zlatan Otok                    1\n",
      "Château Bellevue de Tayac      1\n",
      "El Hada                        1\n",
      "Château de Pitray              1\n",
      "Name: winery, Length: 14810, dtype: int64 \n",
      "\n"
     ]
    }
   ],
   "source": [
    "print(\"country频数：\\n\",nominal['country'].value_counts(),\"\\n\")\n",
    "print(\"designation频数：\\n\",nominal['designation'].value_counts(),\"\\n\")\n",
    "print(\"province频数：\\n\",nominal['province'].value_counts(),\"\\n\")\n",
    "print(\"region_1频数：\\n\",nominal['region_1'].value_counts(),\"\\n\")\n",
    "print(\"region_2频数：\\n\",nominal['region_2'].value_counts(),\"\\n\")\n",
    "print(\"variety频数：\\n\",nominal['variety'].value_counts(),\"\\n\")\n",
    "print(\"winery频数：\\n\",nominal['winery'].value_counts(),\"\\n\")"
   ]
  },
  {
   "cell_type": "markdown",
   "id": "b72e13f2",
   "metadata": {},
   "source": [
    "对数值属性，计算5数概括和缺失值个数,用dropna()将缺失数据去除。"
   ]
  },
  {
   "cell_type": "code",
   "execution_count": 4,
   "id": "97f3c65d",
   "metadata": {
    "scrolled": false
   },
   "outputs": [
    {
     "name": "stdout",
     "output_type": "stream",
     "text": [
      "缺失值个数为：\n",
      " points        0\n",
      "price     13695\n",
      "dtype: int64\n"
     ]
    }
   ],
   "source": [
    "print(\"缺失值个数为：\\n\", numeric.isnull().sum())"
   ]
  },
  {
   "cell_type": "code",
   "execution_count": 5,
   "id": "e9c62c94",
   "metadata": {},
   "outputs": [
    {
     "name": "stdout",
     "output_type": "stream",
     "text": [
      "points的五数概括为： [ 80  86  88  90 100]\n",
      "price的五数概括为： [   4   16   24   40 2300]\n"
     ]
    }
   ],
   "source": [
    "numeric_drop = numeric.dropna().astype(int)\n",
    "points = numeric_drop['points'].to_numpy()\n",
    "price = numeric_drop['price'].to_numpy()\n",
    "mean = np.mean(price)\n",
    "mode = stats.mode(price)[0][0]\n",
    "points_percentile = np.percentile(points, (0,25,50,75,100), interpolation='lower')\n",
    "price_percentile = np.percentile(price, (0,25,50,75,100), interpolation='lower')\n",
    "print(\"points的五数概括为：\",points_percentile)\n",
    "print(\"price的五数概括为：\",price_percentile)"
   ]
  },
  {
   "cell_type": "markdown",
   "id": "768b81d1",
   "metadata": {},
   "source": [
    "用直方图和盒图检查数值属性的分布和离群点"
   ]
  },
  {
   "cell_type": "code",
   "execution_count": 6,
   "id": "f0449b54",
   "metadata": {},
   "outputs": [
    {
     "data": {
      "image/png": "[encoded data removed]",
      "text/plain": [
       "<Figure size 432x288 with 1 Axes>"
      ]
     },
     "metadata": {
      "needs_background": "light"
     },
     "output_type": "display_data"
    }
   ],
   "source": [
    "plt.hist(points)\n",
    "plt.xlabel('points')\n",
    "plt.show()"
   ]
  },
  {
   "cell_type": "code",
   "execution_count": 7,
   "id": "5772d8a3",
   "metadata": {},
   "outputs": [
    {
     "data": {
      "image/png": "[encoded data removed]",
      "text/plain": [
       "<Figure size 432x288 with 1 Axes>"
      ]
     },
     "metadata": {
      "needs_background": "light"
     },
     "output_type": "display_data"
    }
   ],
   "source": [
    "plt.boxplot(points)\n",
    "plt.ylabel('points')\n",
    "plt.show()"
   ]
  },
  {
   "cell_type": "code",
   "execution_count": 8,
   "id": "a2725553",
   "metadata": {
    "scrolled": false
   },
   "outputs": [
    {
     "data": {
      "image/png": "[encoded data removed]",
      "text/plain": [
       "<Figure size 640x640 with 1 Axes>"
      ]
     },
     "metadata": {
      "needs_background": "light"
     },
     "output_type": "display_data"
    }
   ],
   "source": [
    "plt.figure(figsize=(10,10),dpi=64)\n",
    "plt.hist(price,bins=2300)\n",
    "plt.xscale('log')\n",
    "plt.xlabel('price')\n",
    "plt.show()"
   ]
  },
  {
   "cell_type": "code",
   "execution_count": 9,
   "id": "2f2e2c81",
   "metadata": {
    "scrolled": true
   },
   "outputs": [
    {
     "data": {
      "image/png": "[encoded data removed]",
      "text/plain": [
       "<Figure size 432x288 with 1 Axes>"
      ]
     },
     "metadata": {
      "needs_background": "light"
     },
     "output_type": "display_data"
    }
   ],
   "source": [
    "plt.boxplot(price)\n",
    "plt.ylabel('price')\n",
    "plt.yscale('log')"
   ]
  },
  {
   "cell_type": "markdown",
   "id": "2bfac4b5",
   "metadata": {},
   "source": [
    "## 3.2 数据缺失的处理"
   ]
  },
  {
   "cell_type": "markdown",
   "id": "d51ce501",
   "metadata": {},
   "source": [
    "只有price属性存在缺失值，我们用最高频率值来填补缺失值。"
   ]
  },
  {
   "cell_type": "code",
   "execution_count": 10,
   "id": "420daca0",
   "metadata": {},
   "outputs": [],
   "source": [
    "numeric_fill= numeric.fillna(mode).astype(int)\n",
    "price_fill = numeric_fill['price'].to_numpy()"
   ]
  },
  {
   "cell_type": "markdown",
   "id": "d4273cea",
   "metadata": {},
   "source": [
    "重新绘制出直方图和箱图"
   ]
  },
  {
   "cell_type": "code",
   "execution_count": 11,
   "id": "eb26e4a4",
   "metadata": {
    "scrolled": false
   },
   "outputs": [
    {
     "data": {
      "image/png": "[encoded data removed]",
      "text/plain": [
       "<Figure size 640x640 with 1 Axes>"
      ]
     },
     "metadata": {
      "needs_background": "light"
     },
     "output_type": "display_data"
    }
   ],
   "source": [
    "plt.figure(figsize=(10,10),dpi=64)\n",
    "plt.hist(price_fill,bins=2300)\n",
    "plt.xscale('log')\n",
    "plt.xlabel('price fill with mode')\n",
    "plt.show()"
   ]
  },
  {
   "cell_type": "code",
   "execution_count": 12,
   "id": "beadf9ce",
   "metadata": {
    "scrolled": true
   },
   "outputs": [
    {
     "data": {
      "image/png": "[encoded data removed]",
      "text/plain": [
       "<Figure size 432x288 with 1 Axes>"
      ]
     },
     "metadata": {
      "needs_background": "light"
     },
     "output_type": "display_data"
    }
   ],
   "source": [
    "plt.boxplot(price)\n",
    "plt.ylabel('price fill with mode')\n",
    "plt.yscale('log')"
   ]
  },
  {
   "cell_type": "markdown",
   "id": "caeacb5c",
   "metadata": {},
   "source": [
    "第二种方法，用线性回归填补缺失值"
   ]
  },
  {
   "cell_type": "code",
   "execution_count": 13,
   "id": "39df05b8",
   "metadata": {},
   "outputs": [],
   "source": [
    "from sklearn.linear_model import LinearRegression"
   ]
  },
  {
   "cell_type": "code",
   "execution_count": 14,
   "id": "6f515bdd",
   "metadata": {
    "scrolled": true
   },
   "outputs": [
    {
     "data": {
      "text/plain": [
       "LinearRegression()"
      ]
     },
     "execution_count": 14,
     "metadata": {},
     "output_type": "execute_result"
    }
   ],
   "source": [
    "numeric_nan = numeric[np.isnan(numeric['price'])]\n",
    "lineR = LinearRegression()\n",
    "lineR.fit(points.reshape(-1,1), price)"
   ]
  },
  {
   "cell_type": "code",
   "execution_count": 15,
   "id": "1876c679",
   "metadata": {
    "scrolled": false
   },
   "outputs": [],
   "source": [
    "line = lineR.predict(numeric_nan['points'].to_numpy().reshape(-1,1))\n",
    "numeric_nan_copy=numeric_nan.copy()\n",
    "numeric_nan_copy['price']= line"
   ]
  },
  {
   "cell_type": "code",
   "execution_count": 16,
   "id": "a213bf77",
   "metadata": {},
   "outputs": [],
   "source": [
    "numeric_linear = numeric_drop.append(numeric_nan_copy)\n",
    "numeric_linear = numeric_linear.astype(int)\n",
    "price_linear = numeric_linear['price'].to_numpy()"
   ]
  },
  {
   "cell_type": "markdown",
   "id": "c20b62da",
   "metadata": {},
   "source": [
    "重新绘制出直方图和箱图"
   ]
  },
  {
   "cell_type": "code",
   "execution_count": 17,
   "id": "204526de",
   "metadata": {},
   "outputs": [
    {
     "data": {
      "image/png": "[encoded data removed]",
      "text/plain": [
       "<Figure size 640x640 with 1 Axes>"
      ]
     },
     "metadata": {
      "needs_background": "light"
     },
     "output_type": "display_data"
    }
   ],
   "source": [
    "plt.figure(figsize=(10,10),dpi=64)\n",
    "plt.hist(price_linear,bins=2300)\n",
    "plt.xscale('log')\n",
    "plt.xlabel('price fill with LinearRegression')\n",
    "plt.show()"
   ]
  },
  {
   "cell_type": "code",
   "execution_count": 18,
   "id": "d13382a8",
   "metadata": {},
   "outputs": [
    {
     "data": {
      "image/png": "[encoded data removed]",
      "text/plain": [
       "<Figure size 432x288 with 1 Axes>"
      ]
     },
     "metadata": {
      "needs_background": "light"
     },
     "output_type": "display_data"
    }
   ],
   "source": [
    "plt.boxplot(price_linear)\n",
    "plt.ylabel('price fill with LinearRegression')\n",
    "plt.yscale('log')"
   ]
  },
  {
   "cell_type": "markdown",
   "id": "36700508",
   "metadata": {},
   "source": [
    "第三种方法，用KNN填补缺失值"
   ]
  },
  {
   "cell_type": "code",
   "execution_count": 19,
   "id": "3f21c7d0",
   "metadata": {},
   "outputs": [],
   "source": [
    "from sklearn.neighbors import KNeighborsRegressor"
   ]
  },
  {
   "cell_type": "code",
   "execution_count": 20,
   "id": "a4d879f2",
   "metadata": {},
   "outputs": [
    {
     "data": {
      "text/plain": [
       "KNeighborsRegressor(n_neighbors=10, weights='distance')"
      ]
     },
     "execution_count": 20,
     "metadata": {},
     "output_type": "execute_result"
    }
   ],
   "source": [
    "clf = KNeighborsRegressor(n_neighbors = 10, weights = \"distance\")\n",
    "clf.fit(points.reshape(-1,1), price)"
   ]
  },
  {
   "cell_type": "code",
   "execution_count": 21,
   "id": "f99f917e",
   "metadata": {},
   "outputs": [],
   "source": [
    "knn = clf.predict(numeric_nan['points'].to_numpy().reshape(-1,1))\n",
    "numeric_nan_copy=numeric_nan.copy()\n",
    "numeric_nan_copy['price']= knn"
   ]
  },
  {
   "cell_type": "code",
   "execution_count": 22,
   "id": "72df455a",
   "metadata": {},
   "outputs": [],
   "source": [
    "numeric_knn = numeric_drop.append(numeric_nan_copy)\n",
    "numeric_knn = numeric_knn.astype(int)\n",
    "price_knn = numeric_knn['price'].to_numpy()"
   ]
  },
  {
   "cell_type": "markdown",
   "id": "43acbb70",
   "metadata": {},
   "source": [
    "重新绘制出直方图和箱图"
   ]
  },
  {
   "cell_type": "code",
   "execution_count": 23,
   "id": "24ae011d",
   "metadata": {},
   "outputs": [
    {
     "data": {
      "image/png": "[encoded data removed]",
      "text/plain": [
       "<Figure size 640x640 with 1 Axes>"
      ]
     },
     "metadata": {
      "needs_background": "light"
     },
     "output_type": "display_data"
    }
   ],
   "source": [
    "plt.figure(figsize=(10,10),dpi=64)\n",
    "plt.hist(price_knn,bins=2300)\n",
    "plt.xscale('log')\n",
    "plt.xlabel('price fill with KNN')\n",
    "plt.show()"
   ]
  },
  {
   "cell_type": "code",
   "execution_count": 24,
   "id": "219c71c2",
   "metadata": {},
   "outputs": [
    {
     "data": {
      "image/png": "[encoded data removed]",
      "text/plain": [
       "<Figure size 432x288 with 1 Axes>"
      ]
     },
     "metadata": {
      "needs_background": "light"
     },
     "output_type": "display_data"
    }
   ],
   "source": [
    "plt.boxplot(price_knn)\n",
    "plt.ylabel('price fill with KNN')\n",
    "plt.yscale('log')"
   ]
  },
  {
   "cell_type": "markdown",
   "id": "f309bc4d",
   "metadata": {},
   "source": [
    "## 数据集2 Trending YouTube Video Statistics"
   ]
  },
  {
   "cell_type": "markdown",
   "id": "da157514",
   "metadata": {},
   "source": [
    "## 3.1 数据可视化和摘要"
   ]
  },
  {
   "cell_type": "markdown",
   "id": "0c9fe652",
   "metadata": {},
   "source": [
    "读取数据，并查看有多少属性"
   ]
  },
  {
   "cell_type": "code",
   "execution_count": 25,
   "id": "7b686eef",
   "metadata": {
    "scrolled": true
   },
   "outputs": [
    {
     "name": "stdout",
     "output_type": "stream",
     "text": [
      "video_id                  24427\n",
      "trending_date               205\n",
      "title                     24573\n",
      "channel_title              5076\n",
      "category_id                  17\n",
      "publish_time              23613\n",
      "tags                      20157\n",
      "views                     40170\n",
      "likes                     24676\n",
      "dislikes                   6241\n",
      "comment_count             11172\n",
      "thumbnail_link            24422\n",
      "comments_disabled             2\n",
      "ratings_disabled              2\n",
      "video_error_or_removed        2\n",
      "description               22345\n",
      "dtype: int64\n"
     ]
    }
   ],
   "source": [
    "ca_youtube = pd.read_csv(\"CAvideos.csv\",delimiter=',',low_memory=False)\n",
    "print(ca_youtube.nunique())"
   ]
  },
  {
   "cell_type": "markdown",
   "id": "cdf5f73d",
   "metadata": {},
   "source": [
    "我们划分出标称属性和数值属性"
   ]
  },
  {
   "cell_type": "code",
   "execution_count": 26,
   "id": "545b81c6",
   "metadata": {},
   "outputs": [],
   "source": [
    "nominal = ca_youtube[['trending_date','category_id','tags','comments_disabled','ratings_disabled','video_error_or_removed']]\n",
    "numeric = ca_youtube[['views','likes','dislikes','comment_count']].astype(int)"
   ]
  },
  {
   "cell_type": "markdown",
   "id": "0a7d596b",
   "metadata": {},
   "source": [
    "对每一个标称属性计算频数"
   ]
  },
  {
   "cell_type": "code",
   "execution_count": 27,
   "id": "d9af9ff0",
   "metadata": {},
   "outputs": [
    {
     "name": "stdout",
     "output_type": "stream",
     "text": [
      "trending_date频数：\n",
      " 18.02.04    200\n",
      "17.25.12    200\n",
      "18.16.03    200\n",
      "17.30.11    200\n",
      "18.19.02    200\n",
      "           ... \n",
      "18.13.02    195\n",
      "18.02.02    195\n",
      "18.31.01    191\n",
      "18.01.02    190\n",
      "18.14.05    171\n",
      "Name: trending_date, Length: 205, dtype: int64 \n",
      "\n",
      "category_id频数：\n",
      " 24    13451\n",
      "25     4159\n",
      "22     4105\n",
      "23     3773\n",
      "10     3731\n",
      "17     2787\n",
      "1      2060\n",
      "26     2007\n",
      "20     1344\n",
      "28     1155\n",
      "27      991\n",
      "19      392\n",
      "15      369\n",
      "2       353\n",
      "43      124\n",
      "29       74\n",
      "30        6\n",
      "Name: category_id, dtype: int64 \n",
      "\n",
      "tags频数：\n",
      " [none]                                                                                                                                                                                                                                                                                                                                                                                                                                                                                                                      2385\n",
      "the real|\"daytime\"|\"talk show\"|\"women\"|\"tamera mowry\"|\"adrienne bailon\"|\"loni love\"|\"jeannie mai\"                                                                                                                                                                                                                                                                                                                                                                                                                            127\n",
      "best vines 2018|\"funny vines\"|\"funny videos\"|\"funniest videos 2018\"                                                                                                                                                                                                                                                                                                                                                                                                                                                          120\n",
      "Vaani rani|\"rani\"|\"Radhika in funny character\"|\"venu aravind\"|\"SunTV\"|\"VaniRani\"|\"vani\"|\"vaani\"|\"Radhika's dual role serial\"|\"Ranimma veetu kuripu\"|\"Radhika as lawyer in serial\"|\"radikaa\"|\"rathika\"|\"Radhika's new\"                                                                                                                                                                                                                                                                                                        116\n",
      "senegal|\"video\"|\"divertissement\"|\"humour\"|\"youssou ndour;musique\"|\"série\"|\"téléfilm\"|\"theatre\"                                                                                                                                                                                                                                                                                                                                                                                                                                85\n",
      "                                                                                                                                                                                                                                                                                                                                                                                                                                                                                                                            ... \n",
      "shark egg|\"fish room\"|\"aquarium fish\"|\"fish (animal)\"|\"salwater aquarium\"|\"king of diy\"|\"shark aquarium\"|\"aquarium gallery\"|\"joey mullen\"|\"diy king\"|\"aquarium setup\"|\"fish tank\"|\"fish tank setup\"|\"fish tanks aquariums\"|\"king of diy frank\"|\"king of diy saltwater tank\"|\"pond\"|\"diy pond\"|\"aquarium\"                                                                                                                                                                                                                       1\n",
      "JOE BUDDEN|\"#rageandthemachine\"|\"rage and the machine\"|\"mood muzik\"|\"hiphop\"|\"rap\"|\"JOE BUDDEN TV\"|\"Love and Hiphop\"|\"Slaughterhouse\"|\"i'll name this podcast later\"|\"araab muzik\"|\"araabmuzik\"|\"joe budden 2017\"|\"podcast\"|\"The Joe Budden Podcast\"|\"Joe Budden Podcast\"|\"pull up\"|\"joe budden pull up\"|\"pull up joe budden\"|\"charlamagne tha god\"|\"charlamagne\"|\"wayno\"|\"wayno complex\"|\"casanova\"|\"maino\"                                                                                                                   1\n",
      "a&e|\"aetv\"|\"a&e tv\"|\"ae\"|\"a&e television\"|\"a&e shows\"|\"a and e\"|\"a+e\"|\"live pd\"|\"cops\"|\"live cops\"|\"live cop show\"|\"police\"|\"law enforcement\"|\"ride along\"|\"ridealong\"|\"police car\"|\"police ridealong\"|\"live pd drugs\"|\"live pd fight\"|\"PLcviVtB85dLxQdcwUe-BK2AtfEO9Zlbw7\"|\"Live PD Season 2 Episode 45\"|\"04.06.18\"|\"Live PD Season 2\"|\"live pd full\"|\"live pd chase\"|\"a&e live pd\"|\"a&e live pd full episode\"|\"a&e live pd season 2\"|\"live pd best\"|\"live pd big cop\"|\"live pd clips\"|\"live pd season 2 full episodes\"       1\n",
      "Kanye West|\"Kanye Charlamagne\"|\"Kanye TMZ\"|\"TEENS REACT TO KANYE WEST CONTROVERSY\"|\"teens react\"|\"react\"|\"reaction\"|\"thefinebros\"|\"fine brothers\"|\"fine brothers entertainment\"|\"finebros\"|\"fine bros\"|\"FBE\"|\"watch\"|\"review\"|\"for the first time\"|\"reviews\"|\"responds\"|\"respond\"|\"youtubers react\"|\"elders react\"|\"kids react\"|\"adults react\"|\"parents react\"|\"teenagers react\"|\"kanye\"|\"donald trump\"|\"kanye west tmz\"|\"laugh challenge\"|\"try not to laugh\"|\"kids versus food\"|\"lyric breakdown\"|\"react gaming\"              1\n",
      "world of wonder|\"world of wonder productions\"|\"wow report\"|\"raven\"|\"bob the drag queen\"|\"rupaul\"|\"drag race\"|\"zendaya\"|\"xmen\"|\"toot\"|\"boot\"|\"fashion police\"|\"drag queen\"|\"red carpet\"                                                                                                                                                                                                                                                                                                                                         1\n",
      "Name: tags, Length: 20157, dtype: int64 \n",
      "\n",
      "comments_disabled频数：\n",
      " False    40298\n",
      "True       583\n",
      "Name: comments_disabled, dtype: int64 \n",
      "\n",
      "ratings_disabled频数：\n",
      " False    40602\n",
      "True       279\n",
      "Name: ratings_disabled, dtype: int64 \n",
      "\n",
      "video_error_or_removed频数：\n",
      " False    40854\n",
      "True        27\n",
      "Name: video_error_or_removed, dtype: int64 \n",
      "\n"
     ]
    }
   ],
   "source": [
    "print(\"trending_date频数：\\n\",nominal['trending_date'].value_counts(),\"\\n\")\n",
    "print(\"category_id频数：\\n\",nominal['category_id'].value_counts(),\"\\n\")\n",
    "print(\"tags频数：\\n\",nominal['tags'].value_counts(),\"\\n\")\n",
    "print(\"comments_disabled频数：\\n\",nominal['comments_disabled'].value_counts(),\"\\n\")\n",
    "print(\"ratings_disabled频数：\\n\",nominal['ratings_disabled'].value_counts(),\"\\n\")\n",
    "print(\"video_error_or_removed频数：\\n\",nominal['video_error_or_removed'].value_counts(),\"\\n\")"
   ]
  },
  {
   "cell_type": "markdown",
   "id": "9b07a95e",
   "metadata": {},
   "source": [
    "对数值属性，计算5数概括，并查询缺失值"
   ]
  },
  {
   "cell_type": "code",
   "execution_count": 28,
   "id": "23ff3d82",
   "metadata": {},
   "outputs": [],
   "source": [
    "views = numeric['views'].to_numpy()\n",
    "likes = numeric['likes'].to_numpy()\n",
    "dislikes = numeric['dislikes'].to_numpy()\n",
    "comment_count = numeric['comment_count'].to_numpy()"
   ]
  },
  {
   "cell_type": "code",
   "execution_count": 29,
   "id": "8e8337bc",
   "metadata": {},
   "outputs": [
    {
     "name": "stdout",
     "output_type": "stream",
     "text": [
      "views的五数概括为： [      733    143902    371204    963302 137843120]\n",
      "likes的五数概括为： [      0    2191    8780   28717 5053338]\n",
      "dislikes的五数概括为： [      0      99     303     950 1602383]\n",
      "comment_count的五数概括为： [      0     417    1301    3713 1114800]\n"
     ]
    }
   ],
   "source": [
    "views_percentile = np.percentile(views, (0,25,50,75,100), interpolation='lower')\n",
    "likes_percentile = np.percentile(likes, (0,25,50,75,100), interpolation='lower')\n",
    "dislikes_percentile = np.percentile(dislikes, (0,25,50,75,100), interpolation='lower')\n",
    "comment_count_percentile = np.percentile(comment_count, (0,25,50,75,100), interpolation='lower')\n",
    "print(\"views的五数概括为：\",views_percentile)\n",
    "print(\"likes的五数概括为：\",likes_percentile)\n",
    "print(\"dislikes的五数概括为：\",dislikes_percentile)\n",
    "print(\"comment_count的五数概括为：\",comment_count_percentile)"
   ]
  },
  {
   "cell_type": "code",
   "execution_count": 30,
   "id": "721db19d",
   "metadata": {},
   "outputs": [
    {
     "name": "stdout",
     "output_type": "stream",
     "text": [
      "缺失值个数为：\n",
      " views            0\n",
      "likes            0\n",
      "dislikes         0\n",
      "comment_count    0\n",
      "dtype: int64\n"
     ]
    }
   ],
   "source": [
    "print(\"缺失值个数为：\\n\", numeric.isnull().sum())"
   ]
  },
  {
   "cell_type": "markdown",
   "id": "0775bd4c",
   "metadata": {},
   "source": [
    "我们可以发现，本数据集的数值属性没有缺失值，因此不需要数据填补。"
   ]
  },
  {
   "cell_type": "markdown",
   "id": "826d082e",
   "metadata": {},
   "source": [
    "可视化"
   ]
  },
  {
   "cell_type": "code",
   "execution_count": 31,
   "id": "2c24073e",
   "metadata": {},
   "outputs": [
    {
     "data": {
      "image/png": "[encoded data removed]",
      "text/plain": [
       "<Figure size 432x288 with 1 Axes>"
      ]
     },
     "metadata": {
      "needs_background": "light"
     },
     "output_type": "display_data"
    }
   ],
   "source": [
    "plt.boxplot(numeric['views'])\n",
    "plt.ylabel('views')\n",
    "plt.yscale('log')"
   ]
  },
  {
   "cell_type": "code",
   "execution_count": 32,
   "id": "d8fc2ae1",
   "metadata": {},
   "outputs": [
    {
     "data": {
      "image/png": "[encoded data removed]",
      "text/plain": [
       "<Figure size 432x288 with 1 Axes>"
      ]
     },
     "metadata": {
      "needs_background": "light"
     },
     "output_type": "display_data"
    }
   ],
   "source": [
    "plt.boxplot(numeric['likes'])\n",
    "plt.ylabel('likes')\n",
    "plt.yscale('log')"
   ]
  },
  {
   "cell_type": "code",
   "execution_count": 33,
   "id": "e3b9332f",
   "metadata": {},
   "outputs": [
    {
     "data": {
      "image/png": "[encoded data removed]",
      "text/plain": [
       "<Figure size 432x288 with 1 Axes>"
      ]
     },
     "metadata": {
      "needs_background": "light"
     },
     "output_type": "display_data"
    }
   ],
   "source": [
    "plt.boxplot(numeric['dislikes'])\n",
    "plt.ylabel('dislikes')\n",
    "plt.yscale('log')"
   ]
  },
  {
   "cell_type": "code",
   "execution_count": 34,
   "id": "4801e565",
   "metadata": {
    "scrolled": true
   },
   "outputs": [
    {
     "data": {
      "image/png": "[encoded data removed]",
      "text/plain": [
       "<Figure size 432x288 with 1 Axes>"
      ]
     },
     "metadata": {
      "needs_background": "light"
     },
     "output_type": "display_data"
    }
   ],
   "source": [
    "plt.boxplot(numeric['comment_count'])\n",
    "plt.ylabel('comment_count')\n",
    "plt.yscale('log')"
   ]
  },
  {
   "cell_type": "code",
   "execution_count": null,
   "id": "3e2eaf65",
   "metadata": {},
   "outputs": [],
   "source": []
  }
 ],
 "metadata": {
  "kernelspec": {
   "display_name": "Python 3",
   "language": "python",
   "name": "python3"
  },
  "language_info": {
   "codemirror_mode": {
    "name": "ipython",
    "version": 3
   },
   "file_extension": ".py",
   "mimetype": "text/x-python",
   "name": "python",
   "nbconvert_exporter": "python",
   "pygments_lexer": "ipython3",
   "version": "3.8.8"
  }
 },
 "nbformat": 4,
 "nbformat_minor": 5
}
